{
 "cells": [
  {
   "cell_type": "markdown",
   "id": "eb752993-a270-4b03-9a0d-1923f136add5",
   "metadata": {},
   "source": [
    "# Data Analysis: GDP Growth in 65 different Countries"
   ]
  },
  {
   "cell_type": "markdown",
   "id": "51776684-4128-4c19-89e2-1f1b390d25e9",
   "metadata": {},
   "source": [
    "## Question 1: \n",
    "On the website https://www.princeton.edu/~mwatson/Stock-Watson_3u/Students/Stock-Watson\r\n",
    "EmpiricalExercises-DataSets.htm, find the data file Growth, which contains data on average \r\n",
    "growth rates from 1960 through 1995 for 65 countries, along with variables that are potentially \r\n",
    "related to growth. A detailed description is given in Growth_Description on the website. "
   ]
  },
  {
   "cell_type": "code",
   "execution_count": 3,
   "id": "f8f63b97-8db2-4d79-bc41-f08f43d2c365",
   "metadata": {},
   "outputs": [],
   "source": [
    "# Toolkit\n",
    "import pandas as pd\n",
    "import numpy as np\n",
    "import math\n",
    "import matplotlib.pyplot as plt\n",
    "import seaborn as sns\n",
    "%matplotlib inline\n",
    "import statsmodels.api as sm\n",
    "import statsmodels.formula.api as smf\n",
    "from scipy.stats import ttest_ind as ttes\n",
    "import statistics as st"
   ]
  },
  {
   "cell_type": "markdown",
   "id": "ac3cd1fc-bde4-4758-b3d3-1256e11f2002",
   "metadata": {},
   "source": [
    "#### A. Construct a scatterplot of average annual growth rate (Growth) on the average trade share (TradeShare), that is, put TradeShare on the horizontal axis. Does there appear to be a relationship between the variables?"
   ]
  },
  {
   "cell_type": "code",
   "execution_count": 5,
   "id": "41850fa7-6645-4b35-a6c8-0171767b5464",
   "metadata": {},
   "outputs": [
    {
     "name": "stderr",
     "output_type": "stream",
     "text": [
      "C:\\Users\\Nick\\Anaconda\\Lib\\site-packages\\openpyxl\\worksheet\\_read_only.py:81: UserWarning: Unknown extension is not supported and will be removed\n",
      "  for idx, row in parser.parse():\n"
     ]
    }
   ],
   "source": [
    "# Import Data Set Growth.xlsx using Pandas\n",
    "Growth = pd.read_excel(\"C:\\\\Users\\\\Nick\\\\Desktop\\\\Econometrics\\\\Homework 4-2\\\\Growth.xlsx\")"
   ]
  },
  {
   "cell_type": "code",
   "execution_count": 83,
   "id": "81a347da-dbfe-494d-b0e3-8c469c4d8209",
   "metadata": {},
   "outputs": [
    {
     "data": {
      "text/plain": [
       "<Axes: xlabel='tradeshare', ylabel='growth'>"
      ]
     },
     "execution_count": 83,
     "metadata": {},
     "output_type": "execute_result"
    },
    {
     "data": {
      "image/png": "[encoded data removed]",
      "text/plain": [
       "<Figure size 640x480 with 1 Axes>"
      ]
     },
     "metadata": {},
     "output_type": "display_data"
    }
   ],
   "source": [
    "# Create a scatterplot with Growth on the Y-axis (Vertical Axis) and Trade-Shares on the X-axis (Horizontal Axis)\n",
    "Growth.plot( kind = 'scatter', x = 'tradeshare', y = 'growth')"
   ]
  },
  {
   "cell_type": "markdown",
   "id": "971e4424-b272-4ba9-8f99-9e63a807c7b6",
   "metadata": {},
   "source": [
    "#### Findings: \n",
    "Visually there seems to be a weak postive correlation between tradeshare and the growth in GDP "
   ]
  },
  {
   "cell_type": "markdown",
   "id": "85fac6eb-71d4-4ed9-9bf7-5541dec5838c",
   "metadata": {},
   "source": [
    "#### B. Using all observations, run a regression of Growth on TradeShare. What is the estimated slope? Is the estimated slope statistically significant? That is, can you reject the null hypothesis H0: β1 = 0 vs. a two-sided alternative hypothesis at the 10%, 5%, and 1% significance level? What is the estimated intercept? Use the regression to predict the growth rate for a country with a trade share of 0.5 and with a trade share of 1.0."
   ]
  },
  {
   "cell_type": "code",
   "execution_count": 20,
   "id": "ebb870f6-0ccf-4280-9f95-496f24946053",
   "metadata": {},
   "outputs": [
    {
     "name": "stdout",
     "output_type": "stream",
     "text": [
      "                            OLS Regression Results                            \n",
      "==============================================================================\n",
      "Dep. Variable:                 growth   R-squared:                       0.124\n",
      "Model:                            OLS   Adj. R-squared:                  0.110\n",
      "Method:                 Least Squares   F-statistic:                     8.892\n",
      "Date:                Tue, 05 Nov 2024   Prob (F-statistic):            0.00407\n",
      "Time:                        11:07:43   Log-Likelihood:                -129.06\n",
      "No. Observations:                  65   AIC:                             262.1\n",
      "Df Residuals:                      63   BIC:                             266.5\n",
      "Df Model:                           1                                         \n",
      "Covariance Type:            nonrobust                                         \n",
      "==============================================================================\n",
      "                 coef    std err          t      P>|t|      [0.025      0.975]\n",
      "------------------------------------------------------------------------------\n",
      "Intercept      0.6403      0.490      1.307      0.196      -0.339       1.619\n",
      "tradeshare     2.3064      0.773      2.982      0.004       0.761       3.852\n",
      "==============================================================================\n",
      "Omnibus:                        3.236   Durbin-Watson:                   2.180\n",
      "Prob(Omnibus):                  0.198   Jarque-Bera (JB):                2.934\n",
      "Skew:                           0.136   Prob(JB):                        0.231\n",
      "Kurtosis:                       4.005   Cond. No.                         4.67\n",
      "==============================================================================\n",
      "\n",
      "Notes:\n",
      "[1] Standard Errors assume that the covariance matrix of the errors is correctly specified.\n"
     ]
    }
   ],
   "source": [
    "# Run regression of Growth on Tradeshare \n",
    "lm = smf.ols(\"growth ~ tradeshare\", data = Growth).fit()\n",
    "print(lm.summary())"
   ]
  },
  {
   "cell_type": "code",
   "execution_count": 88,
   "id": "6f753cdd-df4d-44e7-b255-dd4c998c31a6",
   "metadata": {},
   "outputs": [
    {
     "data": {
      "text/plain": [
       "Intercept     0.640265\n",
       "tradeshare    2.306434\n",
       "dtype: float64"
      ]
     },
     "execution_count": 88,
     "metadata": {},
     "output_type": "execute_result"
    }
   ],
   "source": [
    "# Despite the OLS regression telling us the information we can use params function to view the intercept and slope. \n",
    "lm.params"
   ]
  },
  {
   "cell_type": "code",
   "execution_count": 26,
   "id": "5ac76a0d-fb26-453e-8f0c-0e64ebd8a5ad",
   "metadata": {},
   "outputs": [
    {
     "name": "stdout",
     "output_type": "stream",
     "text": [
      "Growth Rate (TS = 0.5): 1.793482\n",
      "Growth Rate (TS = 1.0): 2.9466989999999997\n"
     ]
    }
   ],
   "source": [
    "# Use the regression to predict the growth rate for a country with a trade share of 0.5 and with a trade share of 1.0\n",
    "a = 0.640265 +(  2.306434 * 0.5 )\n",
    "print('Growth Rate (TS = 0.5):', a)\n",
    "# Trade share of 1.0\n",
    "b = 0.640265 +(  2.306434 * 1 )\n",
    "print('Growth Rate (TS = 1.0):', b)"
   ]
  },
  {
   "cell_type": "markdown",
   "id": "1a9b56d0-85dd-4585-bf11-1aa1ffd8ab1a",
   "metadata": {},
   "source": [
    "#### Findings: \n",
    "\n",
    "The estimated slope seems to be about 2.31, This Slope is statistically signficant because the p-value of 0.004 for a two-sided test < a signifcance level of 0.01, and we reject the null hypothesis that Beta = 0 which suggests the alternative hypothesis that Beta is not 0. This also holds true under a significance level of 0.05 (5%) and 0.10 (10%). \n",
    "\n",
    "The Estimated Intercept is 0.64. Based on the regression the predicted growth rates of a trade share of 0.5 is 1.79 and the predicted growth rate for 1.0 os 2.95."
   ]
  },
  {
   "cell_type": "markdown",
   "id": "61aae11b-6629-427d-bde4-f38a7865be67",
   "metadata": {},
   "source": [
    "#### C. One country, Malta, has a trade share much larger than the other countries. Find Malta on your scatterplot. Estimate the same regression, excluding the data from Malta. Answer the same question in (b)."
   ]
  },
  {
   "cell_type": "code",
   "execution_count": 93,
   "id": "97fdaaff-e009-4641-a9b4-5d8c239a3d3b",
   "metadata": {},
   "outputs": [
    {
     "data": {
      "text/plain": [
       "country_name        Malta\n",
       "growth           6.652838\n",
       "oil                     0\n",
       "rgdp60             1374.0\n",
       "tradeshare       1.992616\n",
       "yearsschool          5.64\n",
       "rev_coups             0.0\n",
       "assasinations         0.0\n",
       "Name: 64, dtype: object"
      ]
     },
     "execution_count": 93,
     "metadata": {},
     "output_type": "execute_result"
    }
   ],
   "source": [
    "# Find Malta\n",
    "Growth.iloc[64]"
   ]
  },
  {
   "cell_type": "code",
   "execution_count": 30,
   "id": "5f862ba6-b9bc-4af1-9e17-28759a92f3da",
   "metadata": {},
   "outputs": [],
   "source": [
    "# creating new data frame without outlier Malta\n",
    "Growth_new = Growth.drop([64])"
   ]
  },
  {
   "cell_type": "code",
   "execution_count": 95,
   "id": "f962e792-aa19-4466-a143-81426cad97ff",
   "metadata": {},
   "outputs": [
    {
     "name": "stdout",
     "output_type": "stream",
     "text": [
      "                            OLS Regression Results                            \n",
      "==============================================================================\n",
      "Dep. Variable:                 growth   R-squared:                       0.045\n",
      "Model:                            OLS   Adj. R-squared:                  0.029\n",
      "Method:                 Least Squares   F-statistic:                     2.898\n",
      "Date:                Tue, 05 Nov 2024   Prob (F-statistic):             0.0937\n",
      "Time:                        11:53:39   Log-Likelihood:                -127.04\n",
      "No. Observations:                  64   AIC:                             258.1\n",
      "Df Residuals:                      62   BIC:                             262.4\n",
      "Df Model:                           1                                         \n",
      "Covariance Type:            nonrobust                                         \n",
      "==============================================================================\n",
      "                 coef    std err          t      P>|t|      [0.025      0.975]\n",
      "------------------------------------------------------------------------------\n",
      "Intercept      0.9574      0.580      1.650      0.104      -0.203       2.118\n",
      "tradeshare     1.6809      0.987      1.702      0.094      -0.293       3.655\n",
      "==============================================================================\n",
      "Omnibus:                        3.727   Durbin-Watson:                   2.204\n",
      "Prob(Omnibus):                  0.155   Jarque-Bera (JB):                3.709\n",
      "Skew:                           0.146   Prob(JB):                        0.157\n",
      "Kurtosis:                       4.142   Cond. No.                         5.77\n",
      "==============================================================================\n",
      "\n",
      "Notes:\n",
      "[1] Standard Errors assume that the covariance matrix of the errors is correctly specified.\n"
     ]
    }
   ],
   "source": [
    "# Run an OLS regression on the new data frame\n",
    "lm_2 = smf.ols( \"growth ~ tradeshare\", data = Growth_new).fit()\n",
    "print(lm_2.summary())"
   ]
  },
  {
   "cell_type": "markdown",
   "id": "d3805bc5-5b33-47d9-9e47-7606551511d0",
   "metadata": {},
   "source": [
    "#### Use the new regression to predict the growth rate for a country with a trade share of 0.5 and with a trade share of 1.0"
   ]
  },
  {
   "cell_type": "code",
   "execution_count": 106,
   "id": "d60c8895-eec4-4232-be2b-9dbf90cca8b7",
   "metadata": {},
   "outputs": [
    {
     "name": "stdout",
     "output_type": "stream",
     "text": [
      "Growth Rate (TS = 1.0): 0    1.797863\n",
      "dtype: float64\n",
      "Growth Rate (TS = 1.0): 0    2.638315\n",
      "dtype: float64\n"
     ]
    }
   ],
   "source": [
    "# Trade share of 0.5 and 1.0\n",
    "x5 = pd.DataFrame({'tradeshare' : [0.5]})\n",
    "print(\"Growth Rate (TS = 0.5):\",lm_2.predict(x5))\n",
    "x10 = pd.DataFrame({'tradeshare' : [1.0]})\n",
    "print(\"Growth Rate (TS = 1.0):\",lm_2.predict(x10))"
   ]
  },
  {
   "cell_type": "markdown",
   "id": "0c95f03f-2b6f-4950-99d4-655ac45835e9",
   "metadata": {},
   "source": [
    "#### Results: \n",
    "The estimated slope for the regression line that excludes Malta from the data is 1.6809 and the estimated y-intercept is  0.9574. Throught the OLS Regression Result it can be observed that the p-vaue for the slope is 0.094 meaning under a two tailed test with a significance level of 1% and 5% the slope is not statistically significant and this indicates strong evidence for the null hypothesis that the slope is equal to 0. However for a signifance of 10% the p-value is less than the significance level therefore we reject the null hypothesis at this level. \n",
    "\n",
    "The y-intercept of 0.9574. Using the new regression line it can also be observed that the predicted value of Growth for a Trades share value of 0.5 is about 1.80 and for a trade share value of 1.0 is about 2.64."
   ]
  },
  {
   "cell_type": "markdown",
   "id": "57e474d9-8271-46f2-bce7-f9045e9b41ba",
   "metadata": {},
   "source": [
    "#### D. Plot the estimated regression functions from (c) and (b)."
   ]
  },
  {
   "cell_type": "code",
   "execution_count": 115,
   "id": "bf08dc89-b3ad-4587-85e3-6fa443577ddb",
   "metadata": {},
   "outputs": [],
   "source": [
    "# Create data frame for Regression lines with Malta and without Malta\n",
    "xnew = pd.DataFrame({'tradeshare': [Growth.tradeshare.min(),Growth.tradeshare.max()]})\n",
    "pred =lm.predict(xnew)\n",
    "pred_2 = lm_2.predict(xnew)"
   ]
  },
  {
   "cell_type": "code",
   "execution_count": 119,
   "id": "d656648c-50f9-49a8-8e6a-5df042ac1747",
   "metadata": {},
   "outputs": [
    {
     "data": {
      "text/plain": [
       "[<matplotlib.lines.Line2D at 0x1f8330dd370>]"
      ]
     },
     "execution_count": 119,
     "metadata": {},
     "output_type": "execute_result"
    },
    {
     "data": {
      "image/png": "[encoded data removed]",
      "text/plain": [
       "<Figure size 640x480 with 1 Axes>"
      ]
     },
     "metadata": {},
     "output_type": "display_data"
    }
   ],
   "source": [
    "# Graph the new data frame excluding Malta, with a red regression representing the old regression that includes Malta and a new regression in blue which excludes Malta\n",
    "Growth_new.plot(kind = 'scatter', x = 'tradeshare', y= 'growth')\n",
    "plt.plot(xnew, pred_2, c = 'blue', linewidth = 1)\n",
    "plt.plot(xnew, pred, c = 'red', linewidth = 1)"
   ]
  },
  {
   "cell_type": "code",
   "execution_count": 123,
   "id": "96f241f0-6509-4e8d-a28d-9f511814c437",
   "metadata": {},
   "outputs": [
    {
     "data": {
      "text/plain": [
       "country_name        Malta\n",
       "growth           6.652838\n",
       "oil                     0\n",
       "rgdp60             1374.0\n",
       "tradeshare       1.992616\n",
       "yearsschool          5.64\n",
       "rev_coups             0.0\n",
       "assasinations         0.0\n",
       "Name: 64, dtype: object"
      ]
     },
     "execution_count": 123,
     "metadata": {},
     "output_type": "execute_result"
    }
   ],
   "source": [
    "Growth.iloc[64]"
   ]
  },
  {
   "cell_type": "markdown",
   "id": "e910562d-66d2-4350-9c0f-965c62aea682",
   "metadata": {},
   "source": [
    "## Conclusion: Malta\n",
    "Malta is located at the point (1.992616,  6.652838). Due to Malta's larger proportion of GDP being contributed to trade than other countries, Malta's Tradeshare value is larger than others. In other words the sum of Malta imports and Exports is a higher percentage of their GDP growth. Through further research these finding can be further attributed to Malta's involvement in international trade with other countries such as EU and US. It should also be noted that according to International Trade Adinistration Malta imports much of its gas and fuel from the United States. Additional in the growth data Malta's variable \"oil\" which is 1 if oil accounted for at least half of exports in 1960 or 0 otherwise is noted as 0 for Malta. Therefore further research into Malta's domestric resource avaliablity could indicate a need for more trade to provide resources such as fuel and oil. \n",
    "\n",
    "Due to this reason Malta become's an outlier. Therefore, representing Malta within the data will unproportionately misrepresent a relationship between trade shares and growth as the effect of trade share for a country like Malta is different than a majority of other countries who might be less reliant on trade. So if the goal is to predict the effectiveness of a policy on the GDP growth for a majority of countries then we should exclude Malta as the predicted growth would be greater that the actual change, however if we are to analysize the effect that increasing trade has on a nation that relies on trade then Malta could provide valuable insights that economist can learn from. "
   ]
  },
  {
   "cell_type": "code",
   "execution_count": 21,
   "id": "5906e443-9040-4dfb-87a2-daff311493f0",
   "metadata": {},
   "outputs": [
    {
     "data": {
      "text/plain": [
       "<Figure size 800x600 with 0 Axes>"
      ]
     },
     "metadata": {},
     "output_type": "display_data"
    },
    {
     "data": {
      "image/png": "[encoded data removed]",
      "text/plain": [
       "<Figure size 640x480 with 1 Axes>"
      ]
     },
     "metadata": {},
     "output_type": "display_data"
    }
   ],
   "source": [
    "plt.figure(figsize =(8,6))\n",
    "fig, ax = plt.subplots()\n",
    "sns.scatterplot(ax = ax, x =Growth['tradeshare'], y = Growth['growth'])\n",
    "ax.annotate('Malta', xy = (1.992616, 6.652838), xytext = (1.916616,5.502838), arrowprops = dict(facecolor = 'red'));\n"
   ]
  },
  {
   "cell_type": "markdown",
   "id": "36ddba6e-53b6-43f2-ae05-7e293ba3381c",
   "metadata": {},
   "source": [
    "## Question 2:\n",
    "On the website https://www.princeton.edu/~mwatson/Stock-Watson_3u/Students/Stock-Watson\r\n",
    "EmpiricalExercises-DataSets.htm, find the data file Earnings_and_Height, which contains data \r\n",
    "on earnings, height, and other characteristics of a random sample of U.S. workers. Read carefully \r\n",
    "the detailed description, Earnings_and_Height_Description, on the website.  "
   ]
  },
  {
   "cell_type": "code",
   "execution_count": 127,
   "id": "8731c10b-843f-4f2e-b763-aeccea861c19",
   "metadata": {},
   "outputs": [],
   "source": [
    "EarnH = pd.read_stata(\"C:\\\\Users\\\\Nick\\\\Desktop\\\\Econometrics\\\\Homework 4-2\\\\Earnings_and_Height.dta\")"
   ]
  },
  {
   "cell_type": "markdown",
   "id": "34a266e9-d924-432d-b1f0-28e02b45a21e",
   "metadata": {},
   "source": [
    "#### A. What is the median value of height in the sample? (Answer: 67)"
   ]
  },
  {
   "cell_type": "code",
   "execution_count": 146,
   "id": "fd73ad36-7bf5-4e4f-8243-4147d717b624",
   "metadata": {},
   "outputs": [
    {
     "name": "stdout",
     "output_type": "stream",
     "text": [
      "Median Value of Height: 67.0\n"
     ]
    }
   ],
   "source": [
    "# finding the Median Value.\n",
    "print( \"Median Value of Height:\", st.median(EarnH['height']) )"
   ]
  },
  {
   "cell_type": "markdown",
   "id": "8087b163-9377-41d8-90b5-ecd9fb6b43e3",
   "metadata": {},
   "source": [
    "#### B. Estimate average earnings of workers whose height is at most the median value. Estimate average earnings of workers whose height is greater than the median value."
   ]
  },
  {
   "cell_type": "code",
   "execution_count": 141,
   "id": "ab508ee7-c4e5-4207-87ac-105bd1637f19",
   "metadata": {},
   "outputs": [
    {
     "name": "stdout",
     "output_type": "stream",
     "text": [
      "Average for Below/Equal Median: 44488.43593526957\n",
      "Average for Above Median:  49987.87583705357\n"
     ]
    }
   ],
   "source": [
    "BelowMean = EarnH.loc[EarnH['height'] <= 67]\n",
    "print(\"Average for Below/Equal Median:\", st.mean(BelowMean['earnings']))\n",
    "AboveMean = EarnH.loc[EarnH['height'] > 67]\n",
    "print(\"Average for Above Median: \", st.mean(AboveMean['earnings']))\n",
    "# Average Earnings for Workers whos height is equal to or below the mean is $44,488.44"
   ]
  },
  {
   "cell_type": "markdown",
   "id": "53e1794c-f085-45e4-80e6-b3315fa4a611",
   "metadata": {},
   "source": [
    "#### C. Conduct a hypothesis test to answer the following questions: On average, do taller workers earn more than shorter workers? How much more? What is a 95% confidence interval for the difference in average earnings (i.e., two-sided CI)?"
   ]
  },
  {
   "cell_type": "code",
   "execution_count": 176,
   "id": "4fe06fb4-096e-470f-9585-fc6e7b5fa768",
   "metadata": {},
   "outputs": [
    {
     "name": "stdout",
     "output_type": "stream",
     "text": [
      "                            OLS Regression Results                            \n",
      "==============================================================================\n",
      "Dep. Variable:               earnings   R-squared:                       0.011\n",
      "Model:                            OLS   Adj. R-squared:                  0.011\n",
      "Method:                 Least Squares   F-statistic:                     196.5\n",
      "Date:                Tue, 05 Nov 2024   Prob (F-statistic):           2.13e-44\n",
      "Time:                        12:54:20   Log-Likelihood:            -2.0755e+05\n",
      "No. Observations:               17870   AIC:                         4.151e+05\n",
      "Df Residuals:                   17868   BIC:                         4.151e+05\n",
      "Df Model:                           1                                         \n",
      "Covariance Type:            nonrobust                                         \n",
      "==============================================================================\n",
      "                 coef    std err          t      P>|t|      [0.025      0.975]\n",
      "------------------------------------------------------------------------------\n",
      "Intercept   -512.7336   3386.856     -0.151      0.880   -7151.299    6125.832\n",
      "height       707.6716     50.489     14.016      0.000     608.708     806.635\n",
      "==============================================================================\n",
      "Omnibus:                   346151.826   Durbin-Watson:                   1.683\n",
      "Prob(Omnibus):                  0.000   Jarque-Bera (JB):             1827.913\n",
      "Skew:                           0.397   Prob(JB):                         0.00\n",
      "Kurtosis:                       1.649   Cond. No.                     1.13e+03\n",
      "==============================================================================\n",
      "\n",
      "Notes:\n",
      "[1] Standard Errors assume that the covariance matrix of the errors is correctly specified.\n",
      "[2] The condition number is large, 1.13e+03. This might indicate that there are\n",
      "strong multicollinearity or other numerical problems.\n"
     ]
    }
   ],
   "source": [
    "EH = smf.ols( \"earnings ~ height\", data = EarnH).fit()\n",
    "print(EH.summary())"
   ]
  },
  {
   "cell_type": "code",
   "execution_count": 157,
   "id": "427b1660-1b46-4d01-ab28-fa2bb300af83",
   "metadata": {},
   "outputs": [
    {
     "data": {
      "text/html": [
       "<div>\n",
       "<style scoped>\n",
       "    .dataframe tbody tr th:only-of-type {\n",
       "        vertical-align: middle;\n",
       "    }\n",
       "\n",
       "    .dataframe tbody tr th {\n",
       "        vertical-align: top;\n",
       "    }\n",
       "\n",
       "    .dataframe thead th {\n",
       "        text-align: right;\n",
       "    }\n",
       "</style>\n",
       "<table border=\"1\" class=\"dataframe\">\n",
       "  <thead>\n",
       "    <tr style=\"text-align: right;\">\n",
       "      <th></th>\n",
       "      <th>sex</th>\n",
       "      <th>age</th>\n",
       "      <th>mrd</th>\n",
       "      <th>educ</th>\n",
       "      <th>cworker</th>\n",
       "      <th>region</th>\n",
       "      <th>race</th>\n",
       "      <th>earnings</th>\n",
       "      <th>height</th>\n",
       "      <th>weight</th>\n",
       "      <th>occupation</th>\n",
       "    </tr>\n",
       "  </thead>\n",
       "  <tbody>\n",
       "    <tr>\n",
       "      <th>0</th>\n",
       "      <td>0:female</td>\n",
       "      <td>48</td>\n",
       "      <td>1:Married, sps in hh</td>\n",
       "      <td>13</td>\n",
       "      <td>1:Private company</td>\n",
       "      <td>3:South</td>\n",
       "      <td>non-hispanic white</td>\n",
       "      <td>84054.750000</td>\n",
       "      <td>65.0</td>\n",
       "      <td>133.0</td>\n",
       "      <td>1.0</td>\n",
       "    </tr>\n",
       "    <tr>\n",
       "      <th>1</th>\n",
       "      <td>0:female</td>\n",
       "      <td>41</td>\n",
       "      <td>6:Never Married</td>\n",
       "      <td>12</td>\n",
       "      <td>1:Private company</td>\n",
       "      <td>2:Midwest</td>\n",
       "      <td>non-hispanic white</td>\n",
       "      <td>14021.394531</td>\n",
       "      <td>65.0</td>\n",
       "      <td>155.0</td>\n",
       "      <td>1.0</td>\n",
       "    </tr>\n",
       "    <tr>\n",
       "      <th>2</th>\n",
       "      <td>0:female</td>\n",
       "      <td>26</td>\n",
       "      <td>1:Married, sps in hh</td>\n",
       "      <td>16</td>\n",
       "      <td>1:Private company</td>\n",
       "      <td>1:Northeast</td>\n",
       "      <td>non-hispanic white</td>\n",
       "      <td>84054.750000</td>\n",
       "      <td>60.0</td>\n",
       "      <td>108.0</td>\n",
       "      <td>1.0</td>\n",
       "    </tr>\n",
       "    <tr>\n",
       "      <th>3</th>\n",
       "      <td>0:female</td>\n",
       "      <td>37</td>\n",
       "      <td>1:Married, sps in hh</td>\n",
       "      <td>16</td>\n",
       "      <td>1:Private company</td>\n",
       "      <td>2:Midwest</td>\n",
       "      <td>non-hispanic white</td>\n",
       "      <td>84054.750000</td>\n",
       "      <td>67.0</td>\n",
       "      <td>150.0</td>\n",
       "      <td>1.0</td>\n",
       "    </tr>\n",
       "    <tr>\n",
       "      <th>4</th>\n",
       "      <td>0:female</td>\n",
       "      <td>35</td>\n",
       "      <td>6:Never Married</td>\n",
       "      <td>16</td>\n",
       "      <td>1:Private company</td>\n",
       "      <td>1:Northeast</td>\n",
       "      <td>non-hispanic white</td>\n",
       "      <td>28560.386719</td>\n",
       "      <td>68.0</td>\n",
       "      <td>180.0</td>\n",
       "      <td>1.0</td>\n",
       "    </tr>\n",
       "  </tbody>\n",
       "</table>\n",
       "</div>"
      ],
      "text/plain": [
       "        sex age                   mrd  educ            cworker       region  \\\n",
       "0  0:female  48  1:Married, sps in hh    13  1:Private company      3:South   \n",
       "1  0:female  41       6:Never Married    12  1:Private company    2:Midwest   \n",
       "2  0:female  26  1:Married, sps in hh    16  1:Private company  1:Northeast   \n",
       "3  0:female  37  1:Married, sps in hh    16  1:Private company    2:Midwest   \n",
       "4  0:female  35       6:Never Married    16  1:Private company  1:Northeast   \n",
       "\n",
       "                 race      earnings  height  weight  occupation  \n",
       "0  non-hispanic white  84054.750000    65.0   133.0         1.0  \n",
       "1  non-hispanic white  14021.394531    65.0   155.0         1.0  \n",
       "2  non-hispanic white  84054.750000    60.0   108.0         1.0  \n",
       "3  non-hispanic white  84054.750000    67.0   150.0         1.0  \n",
       "4  non-hispanic white  28560.386719    68.0   180.0         1.0  "
      ]
     },
     "execution_count": 157,
     "metadata": {},
     "output_type": "execute_result"
    }
   ],
   "source": [
    "EarnH.head()"
   ]
  },
  {
   "cell_type": "code",
   "execution_count": 56,
   "id": "5df1472b-c85f-42f1-bb77-949d42aefbf0",
   "metadata": {},
   "outputs": [
    {
     "data": {
      "text/plain": [
       "0.0"
      ]
     },
     "execution_count": 56,
     "metadata": {},
     "output_type": "execute_result"
    }
   ],
   "source": [
    "t_test,p_value = ttes(EarnH['height'], EarnH['earnings'])\n",
    "p_value"
   ]
  },
  {
   "cell_type": "markdown",
   "id": "6ca298dd-6ec2-4658-aaa0-a3a93909aabc",
   "metadata": {},
   "source": [
    "##### Findings:\n",
    "On Average our sample data shows that taller workers data earns about $5,499.44 more than shorter persons data, Through conducting a hypothesis test it can be seen that the p-value associated with the slope for height is very small below significant levels of 10%, 5%, and 1% therefore can reject the null hypothesis that there is no correlation between the two. "
   ]
  },
  {
   "cell_type": "markdown",
   "id": "be344652-f9f2-459b-a05e-f8beca2ef33b",
   "metadata": {},
   "source": [
    "#### D. Construct a scatterplot of annual earnings (Earnings) on height (Height), that is, place height on the horizontal axis. Explain why the points on the plot fall along horizontal lines. "
   ]
  },
  {
   "cell_type": "code",
   "execution_count": 58,
   "id": "81d942ad-bac3-4b76-9609-a7439e8179fd",
   "metadata": {},
   "outputs": [
    {
     "data": {
      "text/plain": [
       "<Axes: xlabel='height', ylabel='earnings'>"
      ]
     },
     "execution_count": 58,
     "metadata": {},
     "output_type": "execute_result"
    },
    {
     "data": {
      "image/png": "[encoded data removed]",
      "text/plain": [
       "<Figure size 640x480 with 1 Axes>"
      ]
     },
     "metadata": {},
     "output_type": "display_data"
    }
   ],
   "source": [
    "EarnH.plot(kind = 'scatter', x = 'height', y = 'earnings')"
   ]
  },
  {
   "cell_type": "markdown",
   "id": "fcdd9faa-22fe-402b-9de3-1dfffa7a4d46",
   "metadata": {},
   "source": [
    "Earnings fall along horizontal lines because earnings are recorded in the data as an average of an income bracket. For example 26,000 - 30,000 would be considered a bracket and represented as \\$28,000."
   ]
  },
  {
   "cell_type": "markdown",
   "id": "6c271188-ff73-4c15-bb58-78ee9601fec2",
   "metadata": {},
   "source": [
    "#### E. Run a regression of Earnings on Height. What is the estimated slope? Is the estimated slope statistically significant? What is the estimated intercept? What is the R2? What is the standard error of the regression?  "
   ]
  },
  {
   "cell_type": "code",
   "execution_count": 60,
   "id": "32ef632f-db5d-410b-a02c-21a84a9cc23d",
   "metadata": {},
   "outputs": [
    {
     "name": "stdout",
     "output_type": "stream",
     "text": [
      "                            OLS Regression Results                            \n",
      "==============================================================================\n",
      "Dep. Variable:               earnings   R-squared:                       0.011\n",
      "Model:                            OLS   Adj. R-squared:                  0.011\n",
      "Method:                 Least Squares   F-statistic:                     196.5\n",
      "Date:                Tue, 05 Nov 2024   Prob (F-statistic):           2.13e-44\n",
      "Time:                        11:08:56   Log-Likelihood:            -2.0755e+05\n",
      "No. Observations:               17870   AIC:                         4.151e+05\n",
      "Df Residuals:                   17868   BIC:                         4.151e+05\n",
      "Df Model:                           1                                         \n",
      "Covariance Type:            nonrobust                                         \n",
      "==============================================================================\n",
      "                 coef    std err          t      P>|t|      [0.025      0.975]\n",
      "------------------------------------------------------------------------------\n",
      "Intercept   -512.7336   3386.856     -0.151      0.880   -7151.299    6125.832\n",
      "height       707.6716     50.489     14.016      0.000     608.708     806.635\n",
      "==============================================================================\n",
      "Omnibus:                   346151.826   Durbin-Watson:                   1.683\n",
      "Prob(Omnibus):                  0.000   Jarque-Bera (JB):             1827.913\n",
      "Skew:                           0.397   Prob(JB):                         0.00\n",
      "Kurtosis:                       1.649   Cond. No.                     1.13e+03\n",
      "==============================================================================\n",
      "\n",
      "Notes:\n",
      "[1] Standard Errors assume that the covariance matrix of the errors is correctly specified.\n",
      "[2] The condition number is large, 1.13e+03. This might indicate that there are\n",
      "strong multicollinearity or other numerical problems.\n"
     ]
    }
   ],
   "source": [
    "EH = smf.ols( \"earnings ~ height\", data = EarnH).fit()\n",
    "print(EH.summary())"
   ]
  },
  {
   "cell_type": "markdown",
   "id": "7f35dcf5-5031-4e19-b522-322750bdb7b9",
   "metadata": {},
   "source": [
    "The estimated slope is 707.67. This slope is however not statistically significant. The intercept is -512.73. R2 is 0.011. The standard error of regression in 50.489."
   ]
  },
  {
   "cell_type": "markdown",
   "id": "0678cabb-fd17-4e85-813c-751bd38f17ff",
   "metadata": {},
   "source": [
    "#### F. Use the estimated regression in (e) to predict earnings for a worker who is 67 inches tall, for a \n",
    "worker who is 70 inches tall, and for a worke  who is 65 inches tall. "
   ]
  },
  {
   "cell_type": "code",
   "execution_count": 62,
   "id": "368180af-74a8-4132-b68d-5e1d8de37ba9",
   "metadata": {},
   "outputs": [
    {
     "name": "stdout",
     "output_type": "stream",
     "text": [
      "Earnings [67 inches]:  0    46901.260823\n",
      "dtype: float64\n",
      "Earnings [70 inches]: 0    49024.275499\n",
      "dtype: float64\n",
      "Earnings [70 inches: 0    45485.917706\n",
      "dtype: float64\n"
     ]
    }
   ],
   "source": [
    "H67 = pd.DataFrame({'height': [67]})\n",
    "print(\"Earnings [67 inches]: \", EH.predict(H67))\n",
    "H70 = pd.DataFrame({'height': [70]})\n",
    "print(\"Earnings [70 inches]:\", EH.predict(H70))\n",
    "H65 = pd.DataFrame({'height': [65]})\n",
    "print(\"Earnings [70 inches:\", EH.predict(H65))"
   ]
  },
  {
   "cell_type": "markdown",
   "id": "df71ebd0-2c12-4bd1-9b03-03940892c153",
   "metadata": {},
   "source": [
    "#### G. Suppose height were measured in centimeters instead of inches. Answer the following \n",
    "questions about the Earnings on Height (in cm) regression: What is the estimated slope of the\r\n",
    "regression? Is the estimated slope statistically significant? What is the estimated intercept \r\n",
    "What is the R2? What is  he standard error of the regression?  "
   ]
  },
  {
   "cell_type": "markdown",
   "id": "66459b6a-3c44-4f3a-847f-017cf285337d",
   "metadata": {},
   "source": [
    "The slope will remain the same, however the slope is still statistically insignificant. The estimated intercept would now be -1302.33. R-squared would remain the same at 0.011 and standard error of the regression at 50.489."
   ]
  }
 ],
 "metadata": {
  "kernelspec": {
   "display_name": "Python 3 (ipykernel)",
   "language": "python",
   "name": "python3"
  },
  "language_info": {
   "codemirror_mode": {
    "name": "ipython",
    "version": 3
   },
   "file_extension": ".py",
   "mimetype": "text/x-python",
   "name": "python",
   "nbconvert_exporter": "python",
   "pygments_lexer": "ipython3",
   "version": "3.12.4"
  }
 },
 "nbformat": 4,
 "nbformat_minor": 5
}
